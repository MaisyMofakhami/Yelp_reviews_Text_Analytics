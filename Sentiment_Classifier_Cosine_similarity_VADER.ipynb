{
 "cells": [
  {
   "cell_type": "markdown",
   "metadata": {},
   "source": [
    "Loading all necessary libraries"
   ]
  },
  {
   "cell_type": "code",
   "execution_count": 2,
   "metadata": {},
   "outputs": [
    {
     "name": "stdout",
     "output_type": "stream",
     "text": [
      "Collecting tabulate\n",
      "  Downloading tabulate-0.9.0-py3-none-any.whl.metadata (34 kB)\n",
      "Downloading tabulate-0.9.0-py3-none-any.whl (35 kB)\n",
      "Installing collected packages: tabulate\n",
      "Successfully installed tabulate-0.9.0\n"
     ]
    }
   ],
   "source": [
    "#!pip install wordcloud\n",
    "!pip install tabulate"
   ]
  },
  {
   "cell_type": "code",
   "execution_count": 5,
   "metadata": {},
   "outputs": [
    {
     "ename": "SyntaxError",
     "evalue": "invalid syntax (3435026892.py, line 17)",
     "output_type": "error",
     "traceback": [
      "\u001b[1;36m  Cell \u001b[1;32mIn[5], line 17\u001b[1;36m\u001b[0m\n\u001b[1;33m    import Scikit-learn\u001b[0m\n\u001b[1;37m                 ^\u001b[0m\n\u001b[1;31mSyntaxError\u001b[0m\u001b[1;31m:\u001b[0m invalid syntax\n"
     ]
    }
   ],
   "source": [
    "import pandas as pd\n",
    "import re\n",
    "from collections import Counter\n",
    "import nltk\n",
    "from nltk.corpus import stopwords\n",
    "from wordcloud import WordCloud\n",
    "import matplotlib.pyplot as plt\n",
    "from sklearn.feature_extraction.text import CountVectorizer\n",
    "import numpy as np\n",
    "import seaborn as sns\n",
    "from sklearn.manifold import MDS\n",
    "from nltk.stem import PorterStemmer\n",
    "from nltk.tokenize import word_tokenize\n",
    "from tabulate import tabulate\n",
    "from nltk.stem import WordNetLemmatizer\n",
    "#import VADER\n",
    "#import Scikit-learn"
   ]
  },
  {
   "cell_type": "markdown",
   "metadata": {},
   "source": [
    "Getting the word count and building a word cloud based on that"
   ]
  },
  {
   "cell_type": "code",
   "execution_count": 2,
   "metadata": {},
   "outputs": [
    {
     "name": "stderr",
     "output_type": "stream",
     "text": [
      "<>:2: SyntaxWarning: invalid escape sequence '\\M'\n",
      "<>:2: SyntaxWarning: invalid escape sequence '\\M'\n",
      "C:\\Users\\Behzad\\AppData\\Local\\Temp\\ipykernel_28976\\2741058518.py:2: SyntaxWarning: invalid escape sequence '\\M'\n",
      "  reviews_df = pd.read_csv(\"E:\\MMA\\Winter 2025\\insy669 text\\yelp_reviews.csv\")\n"
     ]
    },
    {
     "data": {
      "text/html": [
       "<div>\n",
       "<style scoped>\n",
       "    .dataframe tbody tr th:only-of-type {\n",
       "        vertical-align: middle;\n",
       "    }\n",
       "\n",
       "    .dataframe tbody tr th {\n",
       "        vertical-align: top;\n",
       "    }\n",
       "\n",
       "    .dataframe thead th {\n",
       "        text-align: right;\n",
       "    }\n",
       "</style>\n",
       "<table border=\"1\" class=\"dataframe\">\n",
       "  <thead>\n",
       "    <tr style=\"text-align: right;\">\n",
       "      <th></th>\n",
       "      <th>Reviewer</th>\n",
       "      <th>Rating</th>\n",
       "      <th>Review</th>\n",
       "    </tr>\n",
       "  </thead>\n",
       "  <tbody>\n",
       "    <tr>\n",
       "      <th>0</th>\n",
       "      <td>Kayla R.</td>\n",
       "      <td>5</td>\n",
       "      <td>Ordered online from here for my sister in laws...</td>\n",
       "    </tr>\n",
       "    <tr>\n",
       "      <th>1</th>\n",
       "      <td>Shawna R.</td>\n",
       "      <td>4</td>\n",
       "      <td>I came in here around noon time, and it was bu...</td>\n",
       "    </tr>\n",
       "    <tr>\n",
       "      <th>2</th>\n",
       "      <td>Gina C.</td>\n",
       "      <td>5</td>\n",
       "      <td>I stopped by the other day to use my BOGO coup...</td>\n",
       "    </tr>\n",
       "    <tr>\n",
       "      <th>3</th>\n",
       "      <td>Victoria J.</td>\n",
       "      <td>5</td>\n",
       "      <td>I absolutely love Nothing Bundt Cakes!! I requ...</td>\n",
       "    </tr>\n",
       "    <tr>\n",
       "      <th>4</th>\n",
       "      <td>Michelle A.</td>\n",
       "      <td>5</td>\n",
       "      <td>This year for my birthday, I opted to go with ...</td>\n",
       "    </tr>\n",
       "  </tbody>\n",
       "</table>\n",
       "</div>"
      ],
      "text/plain": [
       "      Reviewer  Rating                                             Review\n",
       "0     Kayla R.       5  Ordered online from here for my sister in laws...\n",
       "1    Shawna R.       4  I came in here around noon time, and it was bu...\n",
       "2      Gina C.       5  I stopped by the other day to use my BOGO coup...\n",
       "3  Victoria J.       5  I absolutely love Nothing Bundt Cakes!! I requ...\n",
       "4  Michelle A.       5  This year for my birthday, I opted to go with ..."
      ]
     },
     "execution_count": 2,
     "metadata": {},
     "output_type": "execute_result"
    }
   ],
   "source": [
    "# Load your dataset\n",
    "reviews_df = pd.read_csv(\"E:\\MMA\\Winter 2025\\insy669 text\\yelp_reviews.csv\")\n",
    "reviews_df.head()"
   ]
  },
  {
   "cell_type": "code",
   "execution_count": 6,
   "metadata": {},
   "outputs": [
    {
     "data": {
      "text/html": [
       "<div>\n",
       "<style scoped>\n",
       "    .dataframe tbody tr th:only-of-type {\n",
       "        vertical-align: middle;\n",
       "    }\n",
       "\n",
       "    .dataframe tbody tr th {\n",
       "        vertical-align: top;\n",
       "    }\n",
       "\n",
       "    .dataframe thead th {\n",
       "        text-align: right;\n",
       "    }\n",
       "</style>\n",
       "<table border=\"1\" class=\"dataframe\">\n",
       "  <thead>\n",
       "    <tr style=\"text-align: right;\">\n",
       "      <th></th>\n",
       "      <th>Reviewer</th>\n",
       "      <th>Rating</th>\n",
       "      <th>Review</th>\n",
       "      <th>sentiment</th>\n",
       "    </tr>\n",
       "  </thead>\n",
       "  <tbody>\n",
       "    <tr>\n",
       "      <th>0</th>\n",
       "      <td>Kayla R.</td>\n",
       "      <td>5</td>\n",
       "      <td>Ordered online from here for my sister in laws...</td>\n",
       "      <td>1</td>\n",
       "    </tr>\n",
       "    <tr>\n",
       "      <th>1</th>\n",
       "      <td>Shawna R.</td>\n",
       "      <td>4</td>\n",
       "      <td>I came in here around noon time, and it was bu...</td>\n",
       "      <td>1</td>\n",
       "    </tr>\n",
       "    <tr>\n",
       "      <th>2</th>\n",
       "      <td>Gina C.</td>\n",
       "      <td>5</td>\n",
       "      <td>I stopped by the other day to use my BOGO coup...</td>\n",
       "      <td>1</td>\n",
       "    </tr>\n",
       "    <tr>\n",
       "      <th>3</th>\n",
       "      <td>Victoria J.</td>\n",
       "      <td>5</td>\n",
       "      <td>I absolutely love Nothing Bundt Cakes!! I requ...</td>\n",
       "      <td>1</td>\n",
       "    </tr>\n",
       "    <tr>\n",
       "      <th>4</th>\n",
       "      <td>Michelle A.</td>\n",
       "      <td>5</td>\n",
       "      <td>This year for my birthday, I opted to go with ...</td>\n",
       "      <td>1</td>\n",
       "    </tr>\n",
       "  </tbody>\n",
       "</table>\n",
       "</div>"
      ],
      "text/plain": [
       "      Reviewer  Rating                                             Review  \\\n",
       "0     Kayla R.       5  Ordered online from here for my sister in laws...   \n",
       "1    Shawna R.       4  I came in here around noon time, and it was bu...   \n",
       "2      Gina C.       5  I stopped by the other day to use my BOGO coup...   \n",
       "3  Victoria J.       5  I absolutely love Nothing Bundt Cakes!! I requ...   \n",
       "4  Michelle A.       5  This year for my birthday, I opted to go with ...   \n",
       "\n",
       "   sentiment  \n",
       "0          1  \n",
       "1          1  \n",
       "2          1  \n",
       "3          1  \n",
       "4          1  "
      ]
     },
     "execution_count": 6,
     "metadata": {},
     "output_type": "execute_result"
    }
   ],
   "source": [
    "#Convert the numerical ratings into binary labels (positive/negative).\n",
    "reviews_df['sentiment'] = reviews_df['Rating'].apply(lambda x: 1 if x >= 4 else 0)\n",
    "reviews_df.head()"
   ]
  },
  {
   "cell_type": "code",
   "execution_count": 28,
   "metadata": {},
   "outputs": [
    {
     "data": {
      "image/png": "[encoded data removed]",
      "text/plain": [
       "<Figure size 800x600 with 1 Axes>"
      ]
     },
     "metadata": {},
     "output_type": "display_data"
    }
   ],
   "source": [
    "#check the imbalance of the data\n",
    "import matplotlib.pyplot as plt\n",
    "\n",
    "# Plot the distribution of 'Rating'\n",
    "plt.figure(figsize=(8, 6))\n",
    "reviews_df['Rating'].value_counts().sort_index().plot(kind='bar', color='skyblue')\n",
    "\n",
    "# Add labels and title\n",
    "plt.title('Distribution of Ratings', fontsize=16)\n",
    "plt.xlabel('Ratings', fontsize=14)\n",
    "plt.ylabel('Frequency', fontsize=14)\n",
    "\n",
    "# Display the chart\n",
    "plt.xticks(rotation=0)\n",
    "plt.grid(axis='y', linestyle='--', alpha=0.7)\n",
    "plt.show()\n"
   ]
  },
  {
   "cell_type": "code",
   "execution_count": 9,
   "metadata": {},
   "outputs": [
    {
     "name": "stderr",
     "output_type": "stream",
     "text": [
      "[nltk_data] Downloading package punkt to\n",
      "[nltk_data]     C:\\Users\\Behzad\\AppData\\Roaming\\nltk_data...\n",
      "[nltk_data]   Package punkt is already up-to-date!\n",
      "[nltk_data] Downloading package stopwords to\n",
      "[nltk_data]     C:\\Users\\Behzad\\AppData\\Roaming\\nltk_data...\n",
      "[nltk_data]   Package stopwords is already up-to-date!\n"
     ]
    }
   ],
   "source": [
    "import nltk\n",
    "from nltk.tokenize import word_tokenize\n",
    "from nltk.corpus import stopwords\n",
    "import string\n",
    "\n",
    "# Ensure necessary resources are downloaded (if not already)\n",
    "nltk.download('punkt')\n",
    "nltk.download('stopwords')\n",
    "\n",
    "# Define a function to clean and tokenize text\n",
    "def clean_and_tokenize(text):\n",
    "    # Tokenize the text\n",
    "    tokens = word_tokenize(text.lower())  # Convert to lowercase and tokenize\n",
    "    # Remove stopwords and punctuation\n",
    "    stop_words = set(stopwords.words('english'))\n",
    "    tokens = [word for word in tokens if word not in stop_words and word not in string.punctuation]\n",
    "    return tokens\n",
    "\n",
    "# Apply the function to each row in the DataFrame and create the 'clean_tokens' column\n",
    "reviews_df['clean_tokens'] = reviews_df['Review'].apply(clean_and_tokenize)\n"
   ]
  },
  {
   "cell_type": "code",
   "execution_count": 11,
   "metadata": {},
   "outputs": [
    {
     "name": "stdout",
     "output_type": "stream",
     "text": [
      "Training set size: 368\n",
      "Testing set size: 92\n"
     ]
    }
   ],
   "source": [
    "#Split in train (80%) and test (20%) \n",
    "from sklearn.model_selection import train_test_split\n",
    "\n",
    "# Perform the split\n",
    "train_df, test_df = train_test_split(reviews_df, test_size=0.2, random_state=42)\n",
    "\n",
    "# Display the size of each dataset\n",
    "print(f\"Training set size: {len(train_df)}\")\n",
    "print(f\"Testing set size: {len(test_df)}\")"
   ]
  },
  {
   "cell_type": "code",
   "execution_count": 13,
   "metadata": {},
   "outputs": [],
   "source": [
    "#Split the data and the label\n",
    "X_train = train_df['Review']\n",
    "y_train = train_df['sentiment']\n",
    "X_test = test_df['Review']\n",
    "y_test = test_df['sentiment']"
   ]
  },
  {
   "cell_type": "code",
   "execution_count": 14,
   "metadata": {},
   "outputs": [
    {
     "name": "stdout",
     "output_type": "stream",
     "text": [
      "Training data shape: (368, 500)\n",
      "Testing data shape: (92, 500)\n"
     ]
    }
   ],
   "source": [
    "from sklearn.feature_extraction.text import TfidfVectorizer\n",
    "\n",
    "# Define the maximum number of features (X) to limit the vocabulary size\n",
    "max_features = 500  # Adjust this value as needed\n",
    "\n",
    "# Initialize the TF-IDF vectorizer with binary weighting and feature limits\n",
    "tfidf_vectorizer = TfidfVectorizer(\n",
    "    max_features=max_features,  # Limit the number of features\n",
    "    binary=True,                # Apply binary weighting\n",
    "    stop_words='english',       # Remove common stopwords\n",
    "    lowercase=True              # Convert text to lowercase\n",
    ")\n",
    "\n",
    "# Fit the vectorizer on the training data and transform it\n",
    "X_train_tfidf = tfidf_vectorizer.fit_transform(X_train)\n",
    "\n",
    "# Transform the testing data using the fitted vectorizer\n",
    "X_test_tfidf = tfidf_vectorizer.transform(X_test)\n",
    "\n",
    "# Print the shape of the transformed datasets\n",
    "print(f\"Training data shape: {X_train_tfidf.shape}\")\n",
    "print(f\"Testing data shape: {X_test_tfidf.shape}\")"
   ]
  },
  {
   "cell_type": "code",
   "execution_count": 19,
   "metadata": {},
   "outputs": [
    {
     "name": "stdout",
     "output_type": "stream",
     "text": [
      "KNN Classifier Accuracy for k = 5: 89.13%\n",
      "KNN Classifier Accuracy for k = 6: 90.22%\n",
      "KNN Classifier Accuracy for k = 7: 89.13%\n",
      "KNN Classifier Accuracy for k = 8: 90.22%\n",
      "KNN Classifier Accuracy for k = 9: 88.04%\n",
      "KNN Classifier Accuracy for k = 10: 92.39%\n",
      "KNN Classifier Accuracy for k = 11: 89.13%\n",
      "KNN Classifier Accuracy for k = 12: 91.30%\n",
      "KNN Classifier Accuracy for k = 13: 90.22%\n",
      "KNN Classifier Accuracy for k = 14: 91.30%\n"
     ]
    }
   ],
   "source": [
    "from sklearn.neighbors import KNeighborsClassifier\n",
    "from sklearn.metrics import accuracy_score\n",
    "\n",
    "for n_neighbors in range(5,15):\n",
    "\n",
    "    # Initialize the KNN classifier\n",
    "    knn = KNeighborsClassifier(n_neighbors=n_neighbors)\n",
    "\n",
    "    # Fit the model using the TF-IDF transformed training data and labels\n",
    "    knn.fit(X_train_tfidf, y_train)\n",
    "\n",
    "    # Predict labels for the testing data\n",
    "    y_pred = knn.predict(X_test_tfidf)\n",
    "\n",
    "    # Compute the accuracy of the KNN model\n",
    "    accuracy = accuracy_score(y_test, y_pred)\n",
    "\n",
    "    # Print the accuracy\n",
    "    print(f\"KNN Classifier Accuracy for k = {n_neighbors}: {accuracy * 100:.2f}%\")\n"
   ]
  },
  {
   "cell_type": "code",
   "execution_count": 21,
   "metadata": {},
   "outputs": [
    {
     "name": "stdout",
     "output_type": "stream",
     "text": [
      "Collecting vaderSentiment\n",
      "  Downloading vaderSentiment-3.3.2-py2.py3-none-any.whl.metadata (572 bytes)\n",
      "Requirement already satisfied: requests in c:\\users\\behzad\\mma\\anaconda3\\envs\\workshop\\lib\\site-packages (from vaderSentiment) (2.32.3)\n",
      "Requirement already satisfied: charset-normalizer<4,>=2 in c:\\users\\behzad\\mma\\anaconda3\\envs\\workshop\\lib\\site-packages (from requests->vaderSentiment) (3.3.2)\n",
      "Requirement already satisfied: idna<4,>=2.5 in c:\\users\\behzad\\mma\\anaconda3\\envs\\workshop\\lib\\site-packages (from requests->vaderSentiment) (3.7)\n",
      "Requirement already satisfied: urllib3<3,>=1.21.1 in c:\\users\\behzad\\mma\\anaconda3\\envs\\workshop\\lib\\site-packages (from requests->vaderSentiment) (2.2.2)\n",
      "Requirement already satisfied: certifi>=2017.4.17 in c:\\users\\behzad\\mma\\anaconda3\\envs\\workshop\\lib\\site-packages (from requests->vaderSentiment) (2024.8.30)\n",
      "Downloading vaderSentiment-3.3.2-py2.py3-none-any.whl (125 kB)\n",
      "Installing collected packages: vaderSentiment\n",
      "Successfully installed vaderSentiment-3.3.2\n"
     ]
    }
   ],
   "source": [
    "!pip install vaderSentiment"
   ]
  },
  {
   "cell_type": "code",
   "execution_count": 30,
   "metadata": {},
   "outputs": [
    {
     "name": "stdout",
     "output_type": "stream",
     "text": [
      "VADER Sentiment Analysis Accuracy for cutoff 0.05: 93.48%\n"
     ]
    }
   ],
   "source": [
    "from vaderSentiment.vaderSentiment import SentimentIntensityAnalyzer\n",
    "from sklearn.metrics import accuracy_score\n",
    "\n",
    "# Initialize the VADER Sentiment Intensity Analyzer\n",
    "analyzer = SentimentIntensityAnalyzer()\n",
    "\n",
    "# Define a function to calculate sentiment and classify\n",
    "def classify_sentiment_vader(text, cutoff=0.05):\n",
    "    # Calculate the sentiment scores\n",
    "    sentiment_scores = analyzer.polarity_scores(text)\n",
    "    # Use the compound score for classification\n",
    "    compound_score = sentiment_scores['compound']\n",
    "    # Assign label: 1 (positive) if score >= cutoff, 0 (negative) otherwise\n",
    "    return 1 if compound_score >= cutoff else 0\n",
    "\n",
    "# Apply VADER sentiment analysis to the training and testing data\n",
    "y_train_pred = X_train.apply(lambda x: classify_sentiment_vader(x, cutoff=0.05))\n",
    "y_test_pred = X_test.apply(lambda x: classify_sentiment_vader(x, cutoff=0.05))\n",
    "\n",
    "# Compute accuracy for the testing data\n",
    "accuracy = accuracy_score(y_test, y_test_pred)\n",
    "\n",
    "# Print the accuracy\n",
    "print(f\"VADER Sentiment Analysis Accuracy for cutoff 0.05: {accuracy * 100:.2f}%\")\n"
   ]
  },
  {
   "cell_type": "markdown",
   "metadata": {},
   "source": [
    "KNN Classifier Accuracy for k = 10: 92.39%\n",
    "VADER Sentiment Analysis Accuracy for cutoff 0.05: 93.48%"
   ]
  },
  {
   "cell_type": "markdown",
   "metadata": {},
   "source": [
    "Calculating the lift matrix and building a better visualization to represent the matrix"
   ]
  },
  {
   "cell_type": "code",
   "execution_count": 10,
   "metadata": {},
   "outputs": [
    {
     "data": {
      "text/html": [
       "<div>\n",
       "<style scoped>\n",
       "    .dataframe tbody tr th:only-of-type {\n",
       "        vertical-align: middle;\n",
       "    }\n",
       "\n",
       "    .dataframe tbody tr th {\n",
       "        vertical-align: top;\n",
       "    }\n",
       "\n",
       "    .dataframe thead th {\n",
       "        text-align: right;\n",
       "    }\n",
       "</style>\n",
       "<table border=\"1\" class=\"dataframe\">\n",
       "  <thead>\n",
       "    <tr style=\"text-align: right;\">\n",
       "      <th></th>\n",
       "      <th>Reviewer</th>\n",
       "      <th>Rating</th>\n",
       "      <th>Review</th>\n",
       "      <th>sentiment</th>\n",
       "      <th>clean_tokens</th>\n",
       "    </tr>\n",
       "  </thead>\n",
       "  <tbody>\n",
       "    <tr>\n",
       "      <th>0</th>\n",
       "      <td>Kayla R.</td>\n",
       "      <td>5</td>\n",
       "      <td>Ordered online from here for my sister in laws...</td>\n",
       "      <td>1</td>\n",
       "      <td>[ordered, online, sister, laws, engagement, pl...</td>\n",
       "    </tr>\n",
       "    <tr>\n",
       "      <th>1</th>\n",
       "      <td>Shawna R.</td>\n",
       "      <td>4</td>\n",
       "      <td>I came in here around noon time, and it was bu...</td>\n",
       "      <td>1</td>\n",
       "      <td>[came, around, noon, time, busy, surprisingly,...</td>\n",
       "    </tr>\n",
       "    <tr>\n",
       "      <th>2</th>\n",
       "      <td>Gina C.</td>\n",
       "      <td>5</td>\n",
       "      <td>I stopped by the other day to use my BOGO coup...</td>\n",
       "      <td>1</td>\n",
       "      <td>[stopped, day, use, bogo, coupon, got, via, em...</td>\n",
       "    </tr>\n",
       "    <tr>\n",
       "      <th>3</th>\n",
       "      <td>Victoria J.</td>\n",
       "      <td>5</td>\n",
       "      <td>I absolutely love Nothing Bundt Cakes!! I requ...</td>\n",
       "      <td>1</td>\n",
       "      <td>[absolutely, love, nothing, bundt, cakes, requ...</td>\n",
       "    </tr>\n",
       "    <tr>\n",
       "      <th>4</th>\n",
       "      <td>Michelle A.</td>\n",
       "      <td>5</td>\n",
       "      <td>This year for my birthday, I opted to go with ...</td>\n",
       "      <td>1</td>\n",
       "      <td>[year, birthday, opted, go, nothing, bundt, ca...</td>\n",
       "    </tr>\n",
       "  </tbody>\n",
       "</table>\n",
       "</div>"
      ],
      "text/plain": [
       "      Reviewer  Rating                                             Review  \\\n",
       "0     Kayla R.       5  Ordered online from here for my sister in laws...   \n",
       "1    Shawna R.       4  I came in here around noon time, and it was bu...   \n",
       "2      Gina C.       5  I stopped by the other day to use my BOGO coup...   \n",
       "3  Victoria J.       5  I absolutely love Nothing Bundt Cakes!! I requ...   \n",
       "4  Michelle A.       5  This year for my birthday, I opted to go with ...   \n",
       "\n",
       "   sentiment                                       clean_tokens  \n",
       "0          1  [ordered, online, sister, laws, engagement, pl...  \n",
       "1          1  [came, around, noon, time, busy, surprisingly,...  \n",
       "2          1  [stopped, day, use, bogo, coupon, got, via, em...  \n",
       "3          1  [absolutely, love, nothing, bundt, cakes, requ...  \n",
       "4          1  [year, birthday, opted, go, nothing, bundt, ca...  "
      ]
     },
     "execution_count": 10,
     "metadata": {},
     "output_type": "execute_result"
    }
   ],
   "source": [
    "reviews_df.head()"
   ]
  }
 ],
 "metadata": {
  "kernelspec": {
   "display_name": "workshop",
   "language": "python",
   "name": "python3"
  },
  "language_info": {
   "codemirror_mode": {
    "name": "ipython",
    "version": 3
   },
   "file_extension": ".py",
   "mimetype": "text/x-python",
   "name": "python",
   "nbconvert_exporter": "python",
   "pygments_lexer": "ipython3",
   "version": "3.12.5"
  }
 },
 "nbformat": 4,
 "nbformat_minor": 2
}
